{
 "cells": [
  {
   "cell_type": "markdown",
   "id": "83008fc7",
   "metadata": {},
   "source": [
    "Chapter 4 "
   ]
  },
  {
   "cell_type": "code",
   "execution_count": 1,
   "id": "c472be51",
   "metadata": {},
   "outputs": [],
   "source": [
    "import numpy as np\n",
    "import pandas as pd\n",
    "import warnings\n",
    "warnings.simplefilter(action='ignore', category=Warning)"
   ]
  },
  {
   "cell_type": "markdown",
   "id": "a2977227",
   "metadata": {},
   "source": [
    "4. Clean the Gathered Dataset\n",
    "\n",
    "The initial dataset is a csv containing companies house information for all comapanies in the UK & NI which fall under the SICCODE 22190. The original dataset had 4619 rows, which included information from the last 7 financial years. For my analysis i chose to filter the data to focus on one year - 2021. I chose to do this to give an up to date picture of companies in the industry as it stands. I used Microsoft Excel to filter the data on the column 'Current Year' as 2021 and saved the csv as a new file -\"2021_data.csv\". The new file is 406 rows long and is read in in line - In[2]"
   ]
  },
  {
   "cell_type": "markdown",
   "id": "a0021c41",
   "metadata": {},
   "source": [
    "4.1. Load Your Data"
   ]
  },
  {
   "cell_type": "code",
   "execution_count": 2,
   "id": "2b509bce",
   "metadata": {},
   "outputs": [],
   "source": [
    "#checking to see if all rows and columns have been read in\n",
    "\n",
    "df = pd.read_csv(\"2021_data.csv\")"
   ]
  },
  {
   "cell_type": "code",
   "execution_count": 3,
   "id": "8a1fa482",
   "metadata": {},
   "outputs": [
    {
     "data": {
      "text/plain": [
       "(406, 72)"
      ]
     },
     "execution_count": 3,
     "metadata": {},
     "output_type": "execute_result"
    }
   ],
   "source": [
    "#showing column names\n",
    "\n",
    "df.shape"
   ]
  },
  {
   "cell_type": "code",
   "execution_count": 4,
   "id": "399f3412",
   "metadata": {},
   "outputs": [
    {
     "data": {
      "text/plain": [
       "Index(['Company Name', 'Company Number', 'Registered office address',\n",
       "       'Company status', 'Company type', 'Incorporated on',\n",
       "       'Nature of business (SIC) 0', 'Nature of business (SIC) 1',\n",
       "       'Nature of business (SIC) 2', 'Nature of business (SIC) 3',\n",
       "       'No. Officers', 'Officer Name 1', 'Role 1', 'Status 1', 'DOB 1',\n",
       "       'Appointed On 1', 'Nationality 1', 'Country of Residence 1',\n",
       "       'Officer Name 2', 'Role 2', 'Status 2', 'DOB 2', 'Appointed On 2',\n",
       "       'Nationality 2', 'Country of Residence 2', 'Officer Name 3', 'Role 3',\n",
       "       'Status 3', 'DOB 3', 'Appointed On 3', 'Nationality 3',\n",
       "       'Country of Residence 3', 'Officer Name 4', 'Role 4', 'Status 4',\n",
       "       'DOB 4', 'Appointed On 4', 'Nationality 4', 'Country of Residence 4',\n",
       "       'Officer Name 5', 'Role 5', 'Status 5', 'DOB 5', 'Appointed On 5',\n",
       "       'Nationality 5', 'Country of Residence 5', 'Officer Name 6', 'Role 6',\n",
       "       'Status 6', 'DOB 6', 'Appointed On 6', 'Nationality 6',\n",
       "       'Country of Residence 6', 'iXBRL Available?', 'Link to Report',\n",
       "       'Report Number', 'Report Type', 'Current Year', 'Currency',\n",
       "       'Fixed Assets(CUR)', 'Net Fixed Assets(CUR)', 'Current Assets(CUR)',\n",
       "       'Creditors(CUR)', 'Equity(CUR)', 'Employees(CUR)', 'Previous Year',\n",
       "       'Fixed Assets(PREV)', 'Net Fixed Assets(PREV)', 'Current Assets(PREV)',\n",
       "       'Creditors(PREV)', 'Equity(PREV)', 'Employees(PREV)'],\n",
       "      dtype='object')"
      ]
     },
     "execution_count": 4,
     "metadata": {},
     "output_type": "execute_result"
    }
   ],
   "source": [
    "#data types of each column, if values in a column are mixed the data type will be returned as an object\n",
    "\n",
    "df.columns"
   ]
  },
  {
   "cell_type": "code",
   "execution_count": 5,
   "id": "e0310e56",
   "metadata": {},
   "outputs": [
    {
     "data": {
      "text/plain": [
       "Company Name                 object\n",
       "Company Number               object\n",
       "Registered office address    object\n",
       "Company status               object\n",
       "Company type                 object\n",
       "                              ...  \n",
       "Net Fixed Assets(PREV)       object\n",
       "Current Assets(PREV)         object\n",
       "Creditors(PREV)              object\n",
       "Equity(PREV)                 object\n",
       "Employees(PREV)              object\n",
       "Length: 72, dtype: object"
      ]
     },
     "execution_count": 5,
     "metadata": {},
     "output_type": "execute_result"
    }
   ],
   "source": [
    "df.dtypes"
   ]
  },
  {
   "cell_type": "code",
   "execution_count": 6,
   "id": "f658c801",
   "metadata": {},
   "outputs": [
    {
     "name": "stdout",
     "output_type": "stream",
     "text": [
      "<class 'pandas.core.frame.DataFrame'>\n",
      "RangeIndex: 406 entries, 0 to 405\n",
      "Data columns (total 72 columns):\n",
      " #   Column                      Non-Null Count  Dtype \n",
      "---  ------                      --------------  ----- \n",
      " 0   Company Name                406 non-null    object\n",
      " 1   Company Number              406 non-null    object\n",
      " 2   Registered office address   406 non-null    object\n",
      " 3   Company status              406 non-null    object\n",
      " 4   Company type                406 non-null    object\n",
      " 5   Incorporated on             406 non-null    object\n",
      " 6   Nature of business (SIC) 0  405 non-null    object\n",
      " 7   Nature of business (SIC) 1  89 non-null     object\n",
      " 8   Nature of business (SIC) 2  48 non-null     object\n",
      " 9   Nature of business (SIC) 3  28 non-null     object\n",
      " 10  No. Officers                406 non-null    object\n",
      " 11  Officer Name 1              406 non-null    object\n",
      " 12  Role 1                      406 non-null    object\n",
      " 13  Status 1                    406 non-null    object\n",
      " 14  DOB 1                       406 non-null    object\n",
      " 15  Appointed On 1              406 non-null    object\n",
      " 16  Nationality 1               406 non-null    object\n",
      " 17  Country of Residence 1      406 non-null    object\n",
      " 18  Officer Name 2              406 non-null    object\n",
      " 19  Role 2                      406 non-null    object\n",
      " 20  Status 2                    406 non-null    object\n",
      " 21  DOB 2                       406 non-null    object\n",
      " 22  Appointed On 2              406 non-null    object\n",
      " 23  Nationality 2               406 non-null    object\n",
      " 24  Country of Residence 2      406 non-null    object\n",
      " 25  Officer Name 3              406 non-null    object\n",
      " 26  Role 3                      406 non-null    object\n",
      " 27  Status 3                    406 non-null    object\n",
      " 28  DOB 3                       406 non-null    object\n",
      " 29  Appointed On 3              406 non-null    object\n",
      " 30  Nationality 3               406 non-null    object\n",
      " 31  Country of Residence 3      406 non-null    object\n",
      " 32  Officer Name 4              406 non-null    object\n",
      " 33  Role 4                      406 non-null    object\n",
      " 34  Status 4                    406 non-null    object\n",
      " 35  DOB 4                       406 non-null    object\n",
      " 36  Appointed On 4              406 non-null    object\n",
      " 37  Nationality 4               406 non-null    object\n",
      " 38  Country of Residence 4      406 non-null    object\n",
      " 39  Officer Name 5              406 non-null    object\n",
      " 40  Role 5                      406 non-null    object\n",
      " 41  Status 5                    406 non-null    object\n",
      " 42  DOB 5                       406 non-null    object\n",
      " 43  Appointed On 5              406 non-null    object\n",
      " 44  Nationality 5               406 non-null    object\n",
      " 45  Country of Residence 5      406 non-null    object\n",
      " 46  Officer Name 6              406 non-null    object\n",
      " 47  Role 6                      406 non-null    object\n",
      " 48  Status 6                    406 non-null    object\n",
      " 49  DOB 6                       406 non-null    object\n",
      " 50  Appointed On 6              406 non-null    object\n",
      " 51  Nationality 6               406 non-null    object\n",
      " 52  Country of Residence 6      406 non-null    object\n",
      " 53  iXBRL Available?            406 non-null    object\n",
      " 54  Link to Report              406 non-null    object\n",
      " 55  Report Number               406 non-null    int64 \n",
      " 56  Report Type                 406 non-null    object\n",
      " 57  Current Year                406 non-null    int64 \n",
      " 58  Currency                    406 non-null    object\n",
      " 59  Fixed Assets(CUR)           406 non-null    object\n",
      " 60  Net Fixed Assets(CUR)       406 non-null    object\n",
      " 61  Current Assets(CUR)         406 non-null    object\n",
      " 62  Creditors(CUR)              406 non-null    object\n",
      " 63  Equity(CUR)                 406 non-null    object\n",
      " 64  Employees(CUR)              406 non-null    object\n",
      " 65  Previous Year               406 non-null    object\n",
      " 66  Fixed Assets(PREV)          406 non-null    object\n",
      " 67  Net Fixed Assets(PREV)      406 non-null    object\n",
      " 68  Current Assets(PREV)        406 non-null    object\n",
      " 69  Creditors(PREV)             406 non-null    object\n",
      " 70  Equity(PREV)                406 non-null    object\n",
      " 71  Employees(PREV)             406 non-null    object\n",
      "dtypes: int64(2), object(70)\n",
      "memory usage: 228.5+ KB\n"
     ]
    }
   ],
   "source": [
    "#summary of the dataframe\n",
    "\n",
    "df.info()"
   ]
  },
  {
   "cell_type": "code",
   "execution_count": 7,
   "id": "3ec1c019",
   "metadata": {},
   "outputs": [],
   "source": [
    "#importing tools\n",
    "\n",
    "import matplotlib.pyplot as plt\n",
    "import seaborn as sns\n",
    "%matplotlib inline"
   ]
  },
  {
   "cell_type": "markdown",
   "id": "e2e26434",
   "metadata": {},
   "source": [
    "Data cleaning before density estimation"
   ]
  },
  {
   "cell_type": "code",
   "execution_count": 8,
   "id": "1bb8e356",
   "metadata": {},
   "outputs": [],
   "source": [
    "#Changing Not Available to NaN\n",
    "df['Employees(CUR)'] = pd.to_numeric(df['Employees(CUR)'],errors = 'coerce')"
   ]
  },
  {
   "cell_type": "code",
   "execution_count": 9,
   "id": "76ef6c53",
   "metadata": {},
   "outputs": [
    {
     "data": {
      "text/plain": [
       "1.0      47\n",
       "0.0      46\n",
       "2.0      46\n",
       "5.0      24\n",
       "3.0      21\n",
       "9.0      15\n",
       "6.0      14\n",
       "4.0      10\n",
       "12.0      9\n",
       "15.0      9\n",
       "16.0      8\n",
       "7.0       7\n",
       "8.0       6\n",
       "11.0      6\n",
       "18.0      6\n",
       "21.0      5\n",
       "20.0      5\n",
       "10.0      4\n",
       "13.0      4\n",
       "14.0      4\n",
       "27.0      4\n",
       "22.0      3\n",
       "23.0      3\n",
       "31.0      3\n",
       "40.0      3\n",
       "24.0      3\n",
       "56.0      2\n",
       "19.0      2\n",
       "38.0      2\n",
       "37.0      2\n",
       "49.0      2\n",
       "48.0      2\n",
       "25.0      2\n",
       "30.0      2\n",
       "32.0      2\n",
       "63.0      1\n",
       "65.0      1\n",
       "66.0      1\n",
       "61.0      1\n",
       "58.0      1\n",
       "55.0      1\n",
       "53.0      1\n",
       "51.0      1\n",
       "34.0      1\n",
       "41.0      1\n",
       "45.0      1\n",
       "44.0      1\n",
       "43.0      1\n",
       "42.0      1\n",
       "33.0      1\n",
       "17.0      1\n",
       "26.0      1\n",
       "167.0     1\n",
       "29.0      1\n",
       "433.0     1\n",
       "Name: Employees(CUR), dtype: int64"
      ]
     },
     "execution_count": 9,
     "metadata": {},
     "output_type": "execute_result"
    }
   ],
   "source": [
    "df['Employees(CUR)'].value_counts()"
   ]
  },
  {
   "cell_type": "code",
   "execution_count": 10,
   "id": "1610f162",
   "metadata": {},
   "outputs": [],
   "source": [
    "#Changing NaN to median value. I have assumed that the data is 'missing completely at random (MCAR)'.\n",
    "#It is likely that the missing values are close to the median.\n",
    "#Replacing the missing values with the median will have no effect on the outliers\n",
    "# I chose median instead of mean as median is less susceptible to influence from outliers\n",
    "\n",
    "df['Employees(CUR)'] = df['Employees(CUR)'].fillna(df['Employees(CUR)'].median())"
   ]
  },
  {
   "cell_type": "code",
   "execution_count": 11,
   "id": "14d5af18",
   "metadata": {},
   "outputs": [
    {
     "data": {
      "text/plain": [
       "5.0      77\n",
       "1.0      47\n",
       "2.0      46\n",
       "0.0      46\n",
       "3.0      21\n",
       "9.0      15\n",
       "6.0      14\n",
       "4.0      10\n",
       "15.0      9\n",
       "12.0      9\n",
       "16.0      8\n",
       "7.0       7\n",
       "11.0      6\n",
       "8.0       6\n",
       "18.0      6\n",
       "21.0      5\n",
       "20.0      5\n",
       "27.0      4\n",
       "10.0      4\n",
       "13.0      4\n",
       "14.0      4\n",
       "23.0      3\n",
       "22.0      3\n",
       "40.0      3\n",
       "24.0      3\n",
       "31.0      3\n",
       "25.0      2\n",
       "19.0      2\n",
       "37.0      2\n",
       "30.0      2\n",
       "32.0      2\n",
       "38.0      2\n",
       "48.0      2\n",
       "49.0      2\n",
       "56.0      2\n",
       "66.0      1\n",
       "167.0     1\n",
       "65.0      1\n",
       "26.0      1\n",
       "17.0      1\n",
       "63.0      1\n",
       "433.0     1\n",
       "33.0      1\n",
       "34.0      1\n",
       "41.0      1\n",
       "42.0      1\n",
       "43.0      1\n",
       "44.0      1\n",
       "45.0      1\n",
       "51.0      1\n",
       "53.0      1\n",
       "55.0      1\n",
       "58.0      1\n",
       "61.0      1\n",
       "29.0      1\n",
       "Name: Employees(CUR), dtype: int64"
      ]
     },
     "execution_count": 11,
     "metadata": {},
     "output_type": "execute_result"
    }
   ],
   "source": [
    "# Get the count of unique values in the 'Employees(CUR)' column after NaN replaced\n",
    "\n",
    "df['Employees(CUR)'].value_counts()"
   ]
  },
  {
   "cell_type": "markdown",
   "id": "161b1351",
   "metadata": {},
   "source": [
    "4.2. Density Estimation"
   ]
  },
  {
   "cell_type": "code",
   "execution_count": 12,
   "id": "60f2cba2",
   "metadata": {},
   "outputs": [
    {
     "data": {
      "image/png": "[encoded data removed]",
      "text/plain": [
       "<Figure size 432x432 with 1 Axes>"
      ]
     },
     "metadata": {
      "needs_background": "light"
     },
     "output_type": "display_data"
    }
   ],
   "source": [
    "#use a Kernal density estimation plot to represent the distribution of the employee data\n",
    "\n",
    "plt.figure(figsize=(6,6))\n",
    "g = sns.distplot(a=df['Employees(CUR)'])\n",
    "p = plt.title('After handling Not Available - NaN values')"
   ]
  },
  {
   "cell_type": "markdown",
   "id": "6226520c",
   "metadata": {},
   "source": [
    "Analysing the distribution plot above.\n",
    "\n",
    "As we can see from the graph, on the x-axis the tail stretches long to the right. This means most of our data points are distributed to the left, our graph is positively skewed. To make sure our data follows a Gaussian Normal Curve we should identify any outliers and deal with them appropriately. This will allow us to make better predictions from our data.\n"
   ]
  },
  {
   "cell_type": "code",
   "execution_count": 13,
   "id": "d4e1ce10",
   "metadata": {},
   "outputs": [
    {
     "data": {
      "image/png": "[encoded data removed]",
      "text/plain": [
       "<Figure size 360x360 with 1 Axes>"
      ]
     },
     "metadata": {
      "needs_background": "light"
     },
     "output_type": "display_data"
    }
   ],
   "source": [
    "#box plot for employee data \n",
    "plt.figure(figsize=(5,5))\n",
    "sns.boxplot(y='Employees(CUR)', data=df, orient='v', palette='Set1')\n",
    "p = plt.title('Boxplot for 2021 employees')\n",
    "p = plt.ylabel('Employees(CUR)')"
   ]
  },
  {
   "cell_type": "markdown",
   "id": "4af97c21",
   "metadata": {},
   "source": [
    "Identifying outliers - The interquartile range (IQR) is the distance between the third quartile and the first quartile. any data value is considered to be an outlier if it is 1.5 times the IQR larger than the third quartile or 1.5 times the IQR smaller than the first quartile."
   ]
  },
  {
   "cell_type": "markdown",
   "id": "1f7a987b",
   "metadata": {},
   "source": [
    "4.3. Identify Outliers"
   ]
  },
  {
   "cell_type": "code",
   "execution_count": 14,
   "id": "0caea614",
   "metadata": {},
   "outputs": [],
   "source": [
    "# function to find outliers \n",
    "def find_outliers_IQR(df):\n",
    "\n",
    "   q1=df.quantile(0.25)\n",
    "\n",
    "   q3=df.quantile(0.75)\n",
    "\n",
    "   IQR=q3-q1\n",
    "\n",
    "   outliers = df[((df<(q1-1.5*IQR)) | (df>(q3+1.5*IQR)))]\n",
    "\n",
    "   return outliers"
   ]
  },
  {
   "cell_type": "markdown",
   "id": "01d542cc",
   "metadata": {},
   "source": [
    "Analysing outliers:"
   ]
  },
  {
   "cell_type": "code",
   "execution_count": 15,
   "id": "e0e956e5",
   "metadata": {},
   "outputs": [],
   "source": [
    "outliers = find_outliers_IQR(df['Employees(CUR)'])"
   ]
  },
  {
   "cell_type": "code",
   "execution_count": 16,
   "id": "b17afab4",
   "metadata": {},
   "outputs": [
    {
     "name": "stdout",
     "output_type": "stream",
     "text": [
      "number of outliers: 38\n"
     ]
    }
   ],
   "source": [
    "print(\"number of outliers: \"+ str(len(outliers)))"
   ]
  },
  {
   "cell_type": "code",
   "execution_count": 17,
   "id": "1a70a436",
   "metadata": {},
   "outputs": [
    {
     "name": "stdout",
     "output_type": "stream",
     "text": [
      "max outlier value: 433.0\n"
     ]
    }
   ],
   "source": [
    "print(\"max outlier value: \"+ str(outliers.max()))"
   ]
  },
  {
   "cell_type": "code",
   "execution_count": 18,
   "id": "f013a0a4",
   "metadata": {},
   "outputs": [
    {
     "name": "stdout",
     "output_type": "stream",
     "text": [
      "min outlier value: 29.0\n"
     ]
    }
   ],
   "source": [
    "print(\"min outlier value: \"+ str(outliers.min()))"
   ]
  },
  {
   "cell_type": "code",
   "execution_count": 19,
   "id": "573a7e56",
   "metadata": {},
   "outputs": [],
   "source": [
    "#Assigning a new value (the mean) to outliers\n",
    "def impute_outliers_IQR(df):\n",
    "\n",
    "   q1=df.quantile(0.25)\n",
    "\n",
    "   q3=df.quantile(0.75)\n",
    "\n",
    "   IQR=q3-q1\n",
    "\n",
    "   upper = df[~(df>(q3+1.5*IQR))].max()\n",
    "\n",
    "   lower = df[~(df<(q1-1.5*IQR))].min()\n",
    "\n",
    "   df = np.where(df > upper,\n",
    "\n",
    "       df.mean(),\n",
    "\n",
    "       np.where(\n",
    "\n",
    "           df < lower,\n",
    "\n",
    "           df.mean(),\n",
    "\n",
    "           df\n",
    "\n",
    "           )\n",
    "\n",
    "       )\n",
    "\n",
    "   return df"
   ]
  },
  {
   "cell_type": "code",
   "execution_count": 20,
   "id": "a85cb55a",
   "metadata": {},
   "outputs": [],
   "source": [
    "# temporary dataframe to analyse the distribution with the outliers removed\n",
    "df['Employees(CUR)'] = impute_outliers_IQR(df['Employees(CUR)'])"
   ]
  },
  {
   "cell_type": "code",
   "execution_count": 21,
   "id": "92cd9220",
   "metadata": {},
   "outputs": [
    {
     "data": {
      "text/plain": [
       "(406, 72)"
      ]
     },
     "execution_count": 21,
     "metadata": {},
     "output_type": "execute_result"
    }
   ],
   "source": [
    "df.shape"
   ]
  },
  {
   "cell_type": "markdown",
   "id": "63cd4a72",
   "metadata": {},
   "source": [
    "4.3.1. Analysis after handling outliers "
   ]
  },
  {
   "cell_type": "code",
   "execution_count": 22,
   "id": "b673b332",
   "metadata": {},
   "outputs": [
    {
     "data": {
      "image/png": "[encoded data removed]",
      "text/plain": [
       "<Figure size 360x360 with 1 Axes>"
      ]
     },
     "metadata": {
      "needs_background": "light"
     },
     "output_type": "display_data"
    }
   ],
   "source": [
    "#boxplot after handling outliers\n",
    "#please see 4.4 demostration of problem solving below as outliers still remain after running impute outlier function\n",
    "\n",
    "plt.figure(figsize=(5,5))\n",
    "sns.boxplot(y='Employees(CUR)', data=df, orient='v', palette='Set1')\n",
    "p = plt.title('Boxplot for 2021 employees after handling outliers')\n",
    "p = plt.ylabel('Employees(CUR)')"
   ]
  },
  {
   "cell_type": "code",
   "execution_count": 23,
   "id": "d3124d4e",
   "metadata": {},
   "outputs": [
    {
     "name": "stdout",
     "output_type": "stream",
     "text": [
      "No. of employees Mean\n",
      "---------------\n",
      "6.661869979858767\n"
     ]
    },
    {
     "data": {
      "text/plain": [
       "Text(0, 0.5, 'Probability Density')"
      ]
     },
     "execution_count": 23,
     "metadata": {},
     "output_type": "execute_result"
    },
    {
     "data": {
      "image/png": "[encoded data removed]",
      "text/plain": [
       "<Figure size 432x288 with 1 Axes>"
      ]
     },
     "metadata": {
      "needs_background": "light"
     },
     "output_type": "display_data"
    }
   ],
   "source": [
    "# Density plot after handling outliers\n",
    "\n",
    "number_employees = df['Employees(CUR)']\n",
    "print(\"No. of employees Mean\")\n",
    "print(\"---------------\")\n",
    "print(number_employees.mean())\n",
    "sns.distplot(number_employees, color='grey')\n",
    "plt.xlabel('Employees')\n",
    "plt.ylabel('Probability Density')"
   ]
  },
  {
   "cell_type": "markdown",
   "id": "57b24db0",
   "metadata": {},
   "source": [
    "Analysing new density plot above\n",
    "\n",
    "\n",
    "\n"
   ]
  },
  {
   "cell_type": "markdown",
   "id": "5c161199",
   "metadata": {},
   "source": [
    "Applying the central limit theorem to our data\n",
    "\n",
    "The central limit theorem states that if we take repeated random samples from the dataset and calculate the mean value of each sample, then the distribution of the sample means will be approximately normally distributed, even if the samples it came from are not normal.\n",
    "\n",
    "Knowing the central limit theorem will allow us to make better estimations about the charachteristics of larger groups of companies.\n",
    "\n",
    "Applying this to our data we would expect the sample mean distribution of a random variable will assume a near-normal or normal distribution if the sample size is large enough.\n",
    "We will continually increase our sample size to see how it affects the shape of our plotted data:"
   ]
  },
  {
   "cell_type": "code",
   "execution_count": 24,
   "id": "0969381b",
   "metadata": {},
   "outputs": [],
   "source": [
    "# Function to calculaate the sample mean\n",
    "\n",
    "mean = []\n",
    "def calc_sample_mean(sample_size, no_of_sample_means): \n",
    "    for i in range(no_of_sample_means): \n",
    "        global number_employees\n",
    "        sample_number_employees = number_employees.sample(n=sample_size)\n",
    "        sample_mean=sample_number_employees.mean()\n",
    "        mean.append(sample_mean)\n",
    "    return mean"
   ]
  },
  {
   "cell_type": "code",
   "execution_count": 25,
   "id": "df128c60",
   "metadata": {},
   "outputs": [
    {
     "data": {
      "text/plain": [
       "Text(0, 0.5, 'Probability Density sample size 2')"
      ]
     },
     "execution_count": 25,
     "metadata": {},
     "output_type": "execute_result"
    },
    {
     "data": {
      "image/png": "[encoded data removed]",
      "text/plain": [
       "<Figure size 432x288 with 1 Axes>"
      ]
     },
     "metadata": {
      "needs_background": "light"
     },
     "output_type": "display_data"
    }
   ],
   "source": [
    "# distribution with a sample size of 2 \n",
    "\n",
    "mean_2=calc_sample_mean(sample_size=2, no_of_sample_means=500)\n",
    "sns.distplot(mean_2, color='b')\n",
    "plt.xlabel('Sample Employee mean (Sample size =2)')\n",
    "plt.ylabel('Probability Density sample size 2')"
   ]
  },
  {
   "cell_type": "code",
   "execution_count": 26,
   "id": "a3ecdf26",
   "metadata": {},
   "outputs": [
    {
     "data": {
      "text/plain": [
       "Text(0, 0.5, 'Probability Density sample size 3')"
      ]
     },
     "execution_count": 26,
     "metadata": {},
     "output_type": "execute_result"
    },
    {
     "data": {
      "image/png": "[encoded data removed]",
      "text/plain": [
       "<Figure size 432x288 with 1 Axes>"
      ]
     },
     "metadata": {
      "needs_background": "light"
     },
     "output_type": "display_data"
    }
   ],
   "source": [
    "mean_3=calc_sample_mean(sample_size=3, no_of_sample_means=500)\n",
    "sns.distplot(mean_3, color='r')\n",
    "plt.xlabel('Sample Employee Mean(Sample size =3)')\n",
    "plt.ylabel('Probability Density sample size 3')"
   ]
  },
  {
   "cell_type": "code",
   "execution_count": 27,
   "id": "51bc4423",
   "metadata": {},
   "outputs": [
    {
     "data": {
      "text/plain": [
       "Text(0, 0.5, 'Probability Density sample size 10')"
      ]
     },
     "execution_count": 27,
     "metadata": {},
     "output_type": "execute_result"
    },
    {
     "data": {
      "image/png": "[encoded data removed]",
      "text/plain": [
       "<Figure size 432x288 with 1 Axes>"
      ]
     },
     "metadata": {
      "needs_background": "light"
     },
     "output_type": "display_data"
    }
   ],
   "source": [
    "mean_10=calc_sample_mean(sample_size=10, no_of_sample_means=500)\n",
    "sns.distplot(mean_10, color='y')\n",
    "plt.xlabel('Sample Employee Mean(Sample size =10)')\n",
    "plt.ylabel('Probability Density sample size 10')"
   ]
  },
  {
   "cell_type": "code",
   "execution_count": 28,
   "id": "741ebb75",
   "metadata": {},
   "outputs": [
    {
     "data": {
      "text/plain": [
       "Text(0, 0.5, 'Probability Density')"
      ]
     },
     "execution_count": 28,
     "metadata": {},
     "output_type": "execute_result"
    },
    {
     "data": {
      "image/png": "[encoded data removed]",
      "text/plain": [
       "<Figure size 432x288 with 1 Axes>"
      ]
     },
     "metadata": {
      "needs_background": "light"
     },
     "output_type": "display_data"
    }
   ],
   "source": [
    "mean_20=calc_sample_mean(sample_size=20, no_of_sample_means=500)\n",
    "sns.distplot(mean_20, color='g')\n",
    "plt.xlabel('Sample Base Salary Mean(Sample size =20)')\n",
    "plt.ylabel('Probability Density')"
   ]
  },
  {
   "cell_type": "code",
   "execution_count": 29,
   "id": "5a204e60",
   "metadata": {},
   "outputs": [
    {
     "data": {
      "text/plain": [
       "Text(0, 0.5, 'Probability Density sample size 30')"
      ]
     },
     "execution_count": 29,
     "metadata": {},
     "output_type": "execute_result"
    },
    {
     "data": {
      "image/png": "[encoded data removed]",
      "text/plain": [
       "<Figure size 432x288 with 1 Axes>"
      ]
     },
     "metadata": {
      "needs_background": "light"
     },
     "output_type": "display_data"
    }
   ],
   "source": [
    "# The higher the sample size becomes the closer the sample approximates a normal distribution\n",
    "#Sample sizes 30 or greater are considered sufficient enough for the Central Limit Theory to hold\n",
    "\n",
    "mean_30=calc_sample_mean(sample_size=30, no_of_sample_means=500)\n",
    "sns.distplot(mean_30, color='maroon')\n",
    "plt.xlabel('Sample Employee Mean(Sample size =30)')\n",
    "plt.ylabel('Probability Density sample size 30')"
   ]
  },
  {
   "cell_type": "markdown",
   "id": "fcb1b3a3",
   "metadata": {},
   "source": [
    "As the sample size increases, the skewness reduced and the curve became sharper\n",
    "This shows that no matter what our population distribution curve is, the sample means will always follow Gaussian (Normal) Distribution. This will be useful for someone picking up on this project to make better estimations about larger populations of company data."
   ]
  },
  {
   "cell_type": "markdown",
   "id": "ef5cb594",
   "metadata": {},
   "source": [
    "Move on to clean Current assets column column\n",
    "\n",
    "We will repeat the steps above and apply it to the 'Current Assets(CUR)' column of our dataset with some extra steps"
   ]
  },
  {
   "cell_type": "code",
   "execution_count": 30,
   "id": "efc5c7ba",
   "metadata": {},
   "outputs": [
    {
     "data": {
      "text/plain": [
       "(406,)"
      ]
     },
     "execution_count": 30,
     "metadata": {},
     "output_type": "execute_result"
    }
   ],
   "source": [
    "df['Current Assets(CUR)'].shape"
   ]
  },
  {
   "cell_type": "code",
   "execution_count": 31,
   "id": "a7cf9392",
   "metadata": {},
   "outputs": [
    {
     "data": {
      "text/plain": [
       "Not Available    49\n",
       "100              14\n",
       "1                 5\n",
       "1000              3\n",
       "2                 2\n",
       "                 ..\n",
       "1,336,649         1\n",
       "371,024           1\n",
       "1,354,255         1\n",
       "633,002           1\n",
       "1,303             1\n",
       "Name: Current Assets(CUR), Length: 336, dtype: int64"
      ]
     },
     "execution_count": 31,
     "metadata": {},
     "output_type": "execute_result"
    }
   ],
   "source": [
    "df['Current Assets(CUR)'].value_counts()"
   ]
  },
  {
   "cell_type": "code",
   "execution_count": 32,
   "id": "ca8c04f9",
   "metadata": {},
   "outputs": [],
   "source": [
    "#removing commas\n",
    "df['Current Assets(CUR)'] = df['Current Assets(CUR)'].str.replace(',','')"
   ]
  },
  {
   "cell_type": "code",
   "execution_count": 33,
   "id": "92fc7b41",
   "metadata": {},
   "outputs": [
    {
     "data": {
      "text/plain": [
       "Not Available    49\n",
       "100              14\n",
       "1                 5\n",
       "1000              3\n",
       "2                 2\n",
       "                 ..\n",
       "1336649           1\n",
       "371024            1\n",
       "1354255           1\n",
       "633002            1\n",
       "1303              1\n",
       "Name: Current Assets(CUR), Length: 336, dtype: int64"
      ]
     },
     "execution_count": 33,
     "metadata": {},
     "output_type": "execute_result"
    }
   ],
   "source": [
    "df['Current Assets(CUR)'].value_counts()"
   ]
  },
  {
   "cell_type": "code",
   "execution_count": 34,
   "id": "8e462905",
   "metadata": {},
   "outputs": [],
   "source": [
    "df['Current Assets(CUR)'] = pd.to_numeric(df['Current Assets(CUR)'],errors = 'coerce')"
   ]
  },
  {
   "cell_type": "code",
   "execution_count": 35,
   "id": "5a6c2297",
   "metadata": {},
   "outputs": [],
   "source": [
    "df['Current Assets(CUR)'] = df['Current Assets(CUR)'].fillna(df['Current Assets(CUR)'].median())"
   ]
  },
  {
   "cell_type": "code",
   "execution_count": 36,
   "id": "4364e348",
   "metadata": {},
   "outputs": [
    {
     "data": {
      "text/plain": [
       "231207.0     50\n",
       "100.0        14\n",
       "1.0           5\n",
       "1000.0        3\n",
       "2.0           2\n",
       "             ..\n",
       "1336649.0     1\n",
       "371024.0      1\n",
       "1354255.0     1\n",
       "633002.0      1\n",
       "1303.0        1\n",
       "Name: Current Assets(CUR), Length: 335, dtype: int64"
      ]
     },
     "execution_count": 36,
     "metadata": {},
     "output_type": "execute_result"
    }
   ],
   "source": [
    "df['Current Assets(CUR)'].value_counts()"
   ]
  },
  {
   "cell_type": "code",
   "execution_count": 37,
   "id": "91727974",
   "metadata": {},
   "outputs": [
    {
     "data": {
      "image/png": "[encoded data removed]",
      "text/plain": [
       "<Figure size 432x432 with 1 Axes>"
      ]
     },
     "metadata": {
      "needs_background": "light"
     },
     "output_type": "display_data"
    }
   ],
   "source": [
    "plt.figure(figsize=(6,6))\n",
    "g = sns.distplot(a=df['Current Assets(CUR)'])\n",
    "p = plt.title('After handling Not Available value')"
   ]
  },
  {
   "cell_type": "code",
   "execution_count": 38,
   "id": "b9124d3b",
   "metadata": {},
   "outputs": [
    {
     "data": {
      "image/png": "[encoded data removed]",
      "text/plain": [
       "<Figure size 360x360 with 1 Axes>"
      ]
     },
     "metadata": {
      "needs_background": "light"
     },
     "output_type": "display_data"
    }
   ],
   "source": [
    "#box plot for asset data \n",
    "plt.figure(figsize=(5,5))\n",
    "sns.boxplot(y='Current Assets(CUR)', data=df, orient='v', palette='Set1')\n",
    "p = plt.title('Boxplot for Company assets 2021')\n",
    "p = plt.ylabel('Current Assets(CUR)')"
   ]
  },
  {
   "cell_type": "code",
   "execution_count": 39,
   "id": "e0ab2e65",
   "metadata": {},
   "outputs": [],
   "source": [
    "outliers = find_outliers_IQR(df['Current Assets(CUR)'])"
   ]
  },
  {
   "cell_type": "code",
   "execution_count": 40,
   "id": "a51f0b3e",
   "metadata": {},
   "outputs": [
    {
     "name": "stdout",
     "output_type": "stream",
     "text": [
      "number of outliers: 44\n"
     ]
    }
   ],
   "source": [
    "print(\"number of outliers: \"+ str(len(outliers)))"
   ]
  },
  {
   "cell_type": "code",
   "execution_count": 41,
   "id": "d476816a",
   "metadata": {},
   "outputs": [
    {
     "name": "stdout",
     "output_type": "stream",
     "text": [
      "max outlier value: 13767668.0\n"
     ]
    }
   ],
   "source": [
    "print(\"max outlier value: \"+ str(outliers.max()))"
   ]
  },
  {
   "cell_type": "code",
   "execution_count": 42,
   "id": "52e7c21a",
   "metadata": {},
   "outputs": [
    {
     "name": "stdout",
     "output_type": "stream",
     "text": [
      "min outlier value: 1616896.0\n"
     ]
    }
   ],
   "source": [
    "print(\"min outlier value: \"+ str(outliers.min()))"
   ]
  },
  {
   "cell_type": "code",
   "execution_count": 43,
   "id": "70b5dbc0",
   "metadata": {},
   "outputs": [],
   "source": [
    "df['Current Assets(CUR)'] = impute_outliers_IQR(df['Current Assets(CUR)'])"
   ]
  },
  {
   "cell_type": "code",
   "execution_count": 44,
   "id": "8e00b84c",
   "metadata": {},
   "outputs": [
    {
     "data": {
      "text/plain": [
       "231207.000000    50\n",
       "611634.748768    44\n",
       "100.000000       14\n",
       "1.000000          5\n",
       "1000.000000       3\n",
       "                 ..\n",
       "891339.000000     1\n",
       "165776.000000     1\n",
       "670123.000000     1\n",
       "355624.000000     1\n",
       "1303.000000       1\n",
       "Name: Current Assets(CUR), Length: 292, dtype: int64"
      ]
     },
     "execution_count": 44,
     "metadata": {},
     "output_type": "execute_result"
    }
   ],
   "source": [
    "df['Current Assets(CUR)'].value_counts()"
   ]
  },
  {
   "cell_type": "code",
   "execution_count": 45,
   "id": "0786f327",
   "metadata": {},
   "outputs": [
    {
     "data": {
      "text/plain": [
       "<bound method NDFrame.describe of 0         100.0\n",
       "1      231207.0\n",
       "2      231207.0\n",
       "3      231207.0\n",
       "4           1.0\n",
       "         ...   \n",
       "401     34470.0\n",
       "402        10.0\n",
       "403     50693.0\n",
       "404    189498.0\n",
       "405      1303.0\n",
       "Name: Current Assets(CUR), Length: 406, dtype: float64>"
      ]
     },
     "execution_count": 45,
     "metadata": {},
     "output_type": "execute_result"
    }
   ],
   "source": [
    "df['Current Assets(CUR)'].describe"
   ]
  },
  {
   "cell_type": "code",
   "execution_count": 46,
   "id": "86d5d5a7",
   "metadata": {},
   "outputs": [
    {
     "data": {
      "image/png": "[encoded data removed]",
      "text/plain": [
       "<Figure size 432x432 with 1 Axes>"
      ]
     },
     "metadata": {
      "needs_background": "light"
     },
     "output_type": "display_data"
    }
   ],
   "source": [
    "plt.figure(figsize=(6,6))\n",
    "g = sns.distplot(a=df['Current Assets(CUR)'])\n",
    "p = plt.title('After handling outliers')"
   ]
  },
  {
   "cell_type": "code",
   "execution_count": 47,
   "id": "3866af19",
   "metadata": {},
   "outputs": [
    {
     "data": {
      "image/png": "[encoded data removed]",
      "text/plain": [
       "<Figure size 360x360 with 1 Axes>"
      ]
     },
     "metadata": {
      "needs_background": "light"
     },
     "output_type": "display_data"
    }
   ],
   "source": [
    "#box plot for asset data \n",
    "#please see 4.4 below for problems\n",
    "\n",
    "plt.figure(figsize=(5,5))\n",
    "sns.boxplot(y='Current Assets(CUR)', data=df, orient='v', palette='Set1')\n",
    "p = plt.title('Boxplot for Company assets 2021 after handling outliers')\n",
    "p = plt.ylabel('Current Assets(CUR)')"
   ]
  },
  {
   "cell_type": "markdown",
   "id": "c804a172",
   "metadata": {},
   "source": [
    "4.4. Demonstration of Problem Solving \n",
    "\n",
    "Working through this analysis i encountered a number of problems:\n",
    "\n",
    "-When attempting to plot a density graph with the 'Employee (CUR)' for the first time i hadnt removed the 'not available'   cells from the original dataset. When i ran the code i got an error: could not convert string to float: 'Not Available'. This is begause the 'ot available' is non numeric and recognised as a string value.\n",
    "Using google and the website stackoverflow i found the following code to handle the error :\n",
    "\n",
    "df['Employees(CUR)'] = pd.to_numeric(df['Employees(CUR)'],errors = 'coerce')\n",
    "\n",
    "This line of code iterates through the column of data and replaces any non-numeric cell with the value NaN (Not A Number) which will then prevent the error seen above. \n",
    "\n",
    "-As mentioned above i also found that after running the function to remove the outliers, some outliers were still visible when i re-plotted the boxplot. I spent quite a bit of time trying different functions to exclude the outliers with the same result as the function i have left included.I have not solved this problem but believe it is not the function were the outliers are removed to be the issue but a different line of code.\n",
    "     In the line of code: df['Employees(CUR)'] = df['Employees(CUR)'].fillna(df['Employees(CUR)'].median())\n",
    "i replace the NaN values in the column with the median value of the column. I am not sure why but i think this line of code is affecting the outliers that are left in after running the impute outlier function. This warrants further investigation to see if the problem can be solved \n",
    "\n"
   ]
  },
  {
   "cell_type": "markdown",
   "id": "f12cd650",
   "metadata": {},
   "source": [
    "\n",
    "*Please note there is a separate notebook for chapter four with an analysis of a second dataset which will contain parts 4.5, 4.5.1, 4.5.2, 4.6, 4.7\n",
    "\n"
   ]
  }
 ],
 "metadata": {
  "kernelspec": {
   "display_name": "Python 3 (ipykernel)",
   "language": "python",
   "name": "python3"
  },
  "language_info": {
   "codemirror_mode": {
    "name": "ipython",
    "version": 3
   },
   "file_extension": ".py",
   "mimetype": "text/x-python",
   "name": "python",
   "nbconvert_exporter": "python",
   "pygments_lexer": "ipython3",
   "version": "3.9.12"
  }
 },
 "nbformat": 4,
 "nbformat_minor": 5
}
