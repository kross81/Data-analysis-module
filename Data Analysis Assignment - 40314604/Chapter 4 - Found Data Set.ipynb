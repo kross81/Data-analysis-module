{
 "cells": [
  {
   "cell_type": "markdown",
   "id": "4682404c",
   "metadata": {},
   "source": [
    "Chapter 4 continued...."
   ]
  },
  {
   "cell_type": "markdown",
   "id": "373ea8ae",
   "metadata": {},
   "source": [
    "To continue chaper 4 i searched google for a dataset that was related to the companies house data and also to some of the the issues raised in chapter 1 & 2."
   ]
  },
  {
   "cell_type": "code",
   "execution_count": 1,
   "id": "f1fcdd99",
   "metadata": {},
   "outputs": [],
   "source": [
    "import numpy as np\n",
    "import pandas as pd\n",
    "import warnings\n",
    "warnings.simplefilter(action='ignore', category=Warning)"
   ]
  },
  {
   "cell_type": "code",
   "execution_count": 2,
   "id": "2393c7c5",
   "metadata": {},
   "outputs": [],
   "source": [
    "df = pd.read_csv(\"HR_Employee_Attrition_2021.csv\")"
   ]
  },
  {
   "cell_type": "code",
   "execution_count": 3,
   "id": "93da1cac",
   "metadata": {},
   "outputs": [
    {
     "data": {
      "text/plain": [
       "(1470, 36)"
      ]
     },
     "execution_count": 3,
     "metadata": {},
     "output_type": "execute_result"
    }
   ],
   "source": [
    "#checking to see if all rows and columns have been read in\n",
    "\n",
    "df.shape"
   ]
  },
  {
   "cell_type": "code",
   "execution_count": 4,
   "id": "155e05f2",
   "metadata": {},
   "outputs": [
    {
     "data": {
      "text/plain": [
       "Age                          int64\n",
       "Attrition                   object\n",
       "BusinessTravel              object\n",
       "DailyRate                    int64\n",
       "Department                  object\n",
       "DistanceFromHome             int64\n",
       "Education                    int64\n",
       "EducationField              object\n",
       "EmployeeCount                int64\n",
       "EmployeeNumber               int64\n",
       "EnvironmentSatisfaction      int64\n",
       "Gender                      object\n",
       "HourlyRate                   int64\n",
       "JobInvolvement               int64\n",
       "JobLevel                     int64\n",
       "JobRole                     object\n",
       "JobSatisfaction              int64\n",
       "MaritalStatus               object\n",
       "MonthlyIncome                int64\n",
       "MonthlyRate                  int64\n",
       "NumCompaniesWorked           int64\n",
       "Over18                      object\n",
       "OverTime                    object\n",
       "PercentSalaryHike            int64\n",
       "PerformanceRating            int64\n",
       "RelationshipSatisfaction     int64\n",
       "StandardHours                int64\n",
       "StockOptionLevel             int64\n",
       "TotalWorkingYears            int64\n",
       "TrainingTimesLastYear        int64\n",
       "WorkLifeBalance              int64\n",
       "YearsAtCompany               int64\n",
       "YearsInCurrentRole           int64\n",
       "YearsSinceLastPromotion      int64\n",
       "YearsWithCurrManager         int64\n",
       "Current Year                 int64\n",
       "dtype: object"
      ]
     },
     "execution_count": 4,
     "metadata": {},
     "output_type": "execute_result"
    }
   ],
   "source": [
    "#showing column names\n",
    "\n",
    "df.dtypes"
   ]
  },
  {
   "cell_type": "code",
   "execution_count": 5,
   "id": "fdb64604",
   "metadata": {},
   "outputs": [
    {
     "name": "stdout",
     "output_type": "stream",
     "text": [
      "<class 'pandas.core.frame.DataFrame'>\n",
      "RangeIndex: 1470 entries, 0 to 1469\n",
      "Data columns (total 36 columns):\n",
      " #   Column                    Non-Null Count  Dtype \n",
      "---  ------                    --------------  ----- \n",
      " 0   Age                       1470 non-null   int64 \n",
      " 1   Attrition                 1470 non-null   object\n",
      " 2   BusinessTravel            1470 non-null   object\n",
      " 3   DailyRate                 1470 non-null   int64 \n",
      " 4   Department                1470 non-null   object\n",
      " 5   DistanceFromHome          1470 non-null   int64 \n",
      " 6   Education                 1470 non-null   int64 \n",
      " 7   EducationField            1470 non-null   object\n",
      " 8   EmployeeCount             1470 non-null   int64 \n",
      " 9   EmployeeNumber            1470 non-null   int64 \n",
      " 10  EnvironmentSatisfaction   1470 non-null   int64 \n",
      " 11  Gender                    1470 non-null   object\n",
      " 12  HourlyRate                1470 non-null   int64 \n",
      " 13  JobInvolvement            1470 non-null   int64 \n",
      " 14  JobLevel                  1470 non-null   int64 \n",
      " 15  JobRole                   1470 non-null   object\n",
      " 16  JobSatisfaction           1470 non-null   int64 \n",
      " 17  MaritalStatus             1470 non-null   object\n",
      " 18  MonthlyIncome             1470 non-null   int64 \n",
      " 19  MonthlyRate               1470 non-null   int64 \n",
      " 20  NumCompaniesWorked        1470 non-null   int64 \n",
      " 21  Over18                    1470 non-null   object\n",
      " 22  OverTime                  1470 non-null   object\n",
      " 23  PercentSalaryHike         1470 non-null   int64 \n",
      " 24  PerformanceRating         1470 non-null   int64 \n",
      " 25  RelationshipSatisfaction  1470 non-null   int64 \n",
      " 26  StandardHours             1470 non-null   int64 \n",
      " 27  StockOptionLevel          1470 non-null   int64 \n",
      " 28  TotalWorkingYears         1470 non-null   int64 \n",
      " 29  TrainingTimesLastYear     1470 non-null   int64 \n",
      " 30  WorkLifeBalance           1470 non-null   int64 \n",
      " 31  YearsAtCompany            1470 non-null   int64 \n",
      " 32  YearsInCurrentRole        1470 non-null   int64 \n",
      " 33  YearsSinceLastPromotion   1470 non-null   int64 \n",
      " 34  YearsWithCurrManager      1470 non-null   int64 \n",
      " 35  Current Year              1470 non-null   int64 \n",
      "dtypes: int64(27), object(9)\n",
      "memory usage: 413.6+ KB\n"
     ]
    }
   ],
   "source": [
    "#data types of each column, if values in a column are mixed the data type will be returned as an object\n",
    "\n",
    "df.info()"
   ]
  },
  {
   "cell_type": "code",
   "execution_count": 6,
   "id": "599eec1e",
   "metadata": {},
   "outputs": [],
   "source": [
    "#importing tools \n",
    "\n",
    "import matplotlib.pyplot as plt\n",
    "import seaborn as sns\n",
    "%matplotlib inline"
   ]
  },
  {
   "cell_type": "code",
   "execution_count": 7,
   "id": "148d2934",
   "metadata": {},
   "outputs": [
    {
     "data": {
      "text/plain": [
       "Sales Executive              326\n",
       "Research Scientist           292\n",
       "Laboratory Technician        259\n",
       "Manufacturing Director       145\n",
       "Healthcare Representative    131\n",
       "Manager                      102\n",
       "Sales Representative          83\n",
       "Research Director             80\n",
       "Human Resources               52\n",
       "Name: JobRole, dtype: int64"
      ]
     },
     "execution_count": 7,
     "metadata": {},
     "output_type": "execute_result"
    }
   ],
   "source": [
    "#identifying roles in the 'job Role' column\n",
    "\n",
    "df['JobRole'].value_counts().nlargest(20)"
   ]
  },
  {
   "cell_type": "markdown",
   "id": "471143a2",
   "metadata": {},
   "source": [
    "Function to combine Sales Executive and Sales Representative and also combine Research Scientist with Research Director. To give a more general overview of job role to later compare attrition rate."
   ]
  },
  {
   "cell_type": "code",
   "execution_count": 8,
   "id": "4b6aa886",
   "metadata": {},
   "outputs": [
    {
     "data": {
      "text/plain": [
       "sales                        409\n",
       "research                     372\n",
       "laboratory technician        259\n",
       "manufacturing director       145\n",
       "healthcare representative    131\n",
       "manager                      102\n",
       "human resources               52\n",
       "Name: JobRole, dtype: int64"
      ]
     },
     "execution_count": 8,
     "metadata": {},
     "output_type": "execute_result"
    }
   ],
   "source": [
    "def job_role_cleaner(title):\n",
    "    if 'sales executive' in title.lower() or 'sales representative' in title.lower():\n",
    "        return 'sales'\n",
    "    elif 'research scientist' in title.lower() or 'research director' in title.lower():\n",
    "        return 'research'\n",
    "    elif 'laboratory technician' in title.lower():\n",
    "        return 'laboratory technician'\n",
    "    elif 'manufacturing director' in title.lower():\n",
    "        return 'manufacturing director'\n",
    "    elif 'healthcare representative' in title.lower():\n",
    "        return 'healthcare representative'\n",
    "    elif 'manager' in title.lower():\n",
    "        return 'manager'\n",
    "    elif 'human resources' in title.lower():\n",
    "        return 'human resources'\n",
    "    else: \n",
    "        return 'other'\n",
    "    \n",
    "df['JobRole'] = df['JobRole'].apply(job_role_cleaner)\n",
    "df['JobRole'].value_counts()"
   ]
  },
  {
   "cell_type": "code",
   "execution_count": 9,
   "id": "b1e4c66d",
   "metadata": {},
   "outputs": [
    {
     "data": {
      "image/png": "[encoded data removed]",
      "text/plain": [
       "<Figure size 576x576 with 1 Axes>"
      ]
     },
     "metadata": {
      "needs_background": "light"
     },
     "output_type": "display_data"
    }
   ],
   "source": [
    "#countplot to show the number of people in our generalised job role's\n",
    "\n",
    "plt.figure(figsize=(8,8))\n",
    "g = sns.countplot(x='JobRole', data=df, order = df['JobRole'].value_counts().index) # Creating a count plot using the job title column and order them based on the highest count to the least (https://seaborn.pydata.org/generated/seaborn.countplot.html#seaborn.countplot)\n",
    "p = plt.title('Count plot for Job Role')\n",
    "p = plt.xlabel('Job Role')\n",
    "p = plt.ylabel('Count')\n",
    "p = g.set_xticklabels(g.get_xticklabels(), rotation=45, horizontalalignment='right')"
   ]
  },
  {
   "cell_type": "markdown",
   "id": "ba864734",
   "metadata": {},
   "source": [
    "Moving on to Visualising data for column 'Years in current role'"
   ]
  },
  {
   "cell_type": "code",
   "execution_count": 10,
   "id": "18c6f67b",
   "metadata": {},
   "outputs": [
    {
     "data": {
      "text/plain": [
       "count    1470.000000\n",
       "mean        4.229252\n",
       "std         3.623137\n",
       "min         0.000000\n",
       "25%         2.000000\n",
       "50%         3.000000\n",
       "75%         7.000000\n",
       "max        18.000000\n",
       "Name: YearsInCurrentRole, dtype: float64"
      ]
     },
     "execution_count": 10,
     "metadata": {},
     "output_type": "execute_result"
    }
   ],
   "source": [
    "#statistical overview of 'YearsInCurrentRole' column\n",
    "\n",
    "df.describe()['YearsInCurrentRole']"
   ]
  },
  {
   "cell_type": "code",
   "execution_count": 11,
   "id": "050941d9",
   "metadata": {},
   "outputs": [
    {
     "data": {
      "image/png": "[encoded data removed]",
      "text/plain": [
       "<Figure size 432x432 with 1 Axes>"
      ]
     },
     "metadata": {
      "needs_background": "light"
     },
     "output_type": "display_data"
    }
   ],
   "source": [
    "#visualising 'YearsInCurrentRole' column\n",
    "\n",
    "plt.figure(figsize=(6,6))\n",
    "g = sns.distplot(a=df['YearsInCurrentRole'])\n",
    "p = plt.title('Visualising years in current role column')"
   ]
  },
  {
   "cell_type": "code",
   "execution_count": 12,
   "id": "ce2837b5",
   "metadata": {},
   "outputs": [
    {
     "data": {
      "image/png": "[encoded data removed]",
      "text/plain": [
       "<Figure size 360x360 with 1 Axes>"
      ]
     },
     "metadata": {
      "needs_background": "light"
     },
     "output_type": "display_data"
    }
   ],
   "source": [
    "#boxplot to identify 'YearsInCurrentRole' column - identifying outliers\n",
    "\n",
    "plt.figure(figsize=(5,5))\n",
    "sns.boxplot(y='YearsInCurrentRole', data=df, orient='v', palette='Set1')\n",
    "p = plt.title('Boxplot for 2021 Years in role')\n",
    "p = plt.ylabel('YearsInCurrentRole')"
   ]
  },
  {
   "cell_type": "code",
   "execution_count": 13,
   "id": "60130833",
   "metadata": {},
   "outputs": [],
   "source": [
    "# function to find outliers \n",
    "def find_outliers_IQR(df):\n",
    "\n",
    "   q1=df.quantile(0.25)\n",
    "\n",
    "   q3=df.quantile(0.75)\n",
    "\n",
    "   IQR=q3-q1\n",
    "\n",
    "   outliers = df[((df<(q1-1.5*IQR)) | (df>(q3+1.5*IQR)))]\n",
    "\n",
    "   return outliers"
   ]
  },
  {
   "cell_type": "markdown",
   "id": "878fe113",
   "metadata": {},
   "source": [
    "Summary of outliers"
   ]
  },
  {
   "cell_type": "code",
   "execution_count": 14,
   "id": "a68f52eb",
   "metadata": {},
   "outputs": [],
   "source": [
    "outliers = find_outliers_IQR(df['YearsInCurrentRole'])"
   ]
  },
  {
   "cell_type": "code",
   "execution_count": 15,
   "id": "bfc646f8",
   "metadata": {},
   "outputs": [
    {
     "name": "stdout",
     "output_type": "stream",
     "text": [
      "number of outliers: 21\n"
     ]
    }
   ],
   "source": [
    "print(\"number of outliers: \"+ str(len(outliers)))"
   ]
  },
  {
   "cell_type": "code",
   "execution_count": 16,
   "id": "71dcc32e",
   "metadata": {},
   "outputs": [
    {
     "name": "stdout",
     "output_type": "stream",
     "text": [
      "max outlier value: 18\n"
     ]
    }
   ],
   "source": [
    "print(\"max outlier value: \"+ str(outliers.max()))"
   ]
  },
  {
   "cell_type": "code",
   "execution_count": 17,
   "id": "ebf50010",
   "metadata": {},
   "outputs": [
    {
     "name": "stdout",
     "output_type": "stream",
     "text": [
      "min outlier value: 15\n"
     ]
    }
   ],
   "source": [
    "print(\"min outlier value: \"+ str(outliers.min()))"
   ]
  },
  {
   "cell_type": "markdown",
   "id": "d3b60713",
   "metadata": {},
   "source": [
    "For the column of years in current role i decided to leave the outliers in the dataset. It is reasonable to assume that someone could be in a Job Role for 18 years and the 21 outliers are not measurement or data entry errors."
   ]
  },
  {
   "cell_type": "markdown",
   "id": "bd864c77",
   "metadata": {},
   "source": [
    "Visualising data from Job Satisfaction column:"
   ]
  },
  {
   "cell_type": "code",
   "execution_count": 18,
   "id": "039f54bd",
   "metadata": {},
   "outputs": [
    {
     "data": {
      "text/plain": [
       "count    1470.000000\n",
       "mean        2.728571\n",
       "std         1.102846\n",
       "min         1.000000\n",
       "25%         2.000000\n",
       "50%         3.000000\n",
       "75%         4.000000\n",
       "max         4.000000\n",
       "Name: JobSatisfaction, dtype: float64"
      ]
     },
     "execution_count": 18,
     "metadata": {},
     "output_type": "execute_result"
    }
   ],
   "source": [
    "df.describe()['JobSatisfaction']"
   ]
  },
  {
   "cell_type": "code",
   "execution_count": 19,
   "id": "29b76b9a",
   "metadata": {},
   "outputs": [
    {
     "data": {
      "image/png": "[encoded data removed]",
      "text/plain": [
       "<Figure size 360x360 with 1 Axes>"
      ]
     },
     "metadata": {
      "needs_background": "light"
     },
     "output_type": "display_data"
    }
   ],
   "source": [
    "plt.figure(figsize=(5,5))\n",
    "sns.boxplot(y='JobSatisfaction', data=df, orient='v', palette='Set1')\n",
    "p = plt.title('Boxplot for 2021 Years in role')\n",
    "p = plt.ylabel('JobSatisfaction')"
   ]
  },
  {
   "cell_type": "code",
   "execution_count": 20,
   "id": "80177d09",
   "metadata": {},
   "outputs": [],
   "source": [
    "outliers = find_outliers_IQR(df['JobSatisfaction'])"
   ]
  },
  {
   "cell_type": "code",
   "execution_count": 21,
   "id": "ebd7cf56",
   "metadata": {},
   "outputs": [
    {
     "name": "stdout",
     "output_type": "stream",
     "text": [
      "number of outliers: 0\n"
     ]
    }
   ],
   "source": [
    "print(\"number of outliers: \"+ str(len(outliers)))"
   ]
  },
  {
   "cell_type": "markdown",
   "id": "f1449341",
   "metadata": {},
   "source": [
    "No outliers identified in the Job satisfaction column so no cleaning required"
   ]
  },
  {
   "cell_type": "markdown",
   "id": "04b0bda3",
   "metadata": {},
   "source": [
    "Visualisation of Monthly Income Column:"
   ]
  },
  {
   "cell_type": "code",
   "execution_count": 22,
   "id": "6040880b",
   "metadata": {},
   "outputs": [
    {
     "data": {
      "text/plain": [
       "count     1470.000000\n",
       "mean      6502.931293\n",
       "std       4707.956783\n",
       "min       1009.000000\n",
       "25%       2911.000000\n",
       "50%       4919.000000\n",
       "75%       8379.000000\n",
       "max      19999.000000\n",
       "Name: MonthlyIncome, dtype: float64"
      ]
     },
     "execution_count": 22,
     "metadata": {},
     "output_type": "execute_result"
    }
   ],
   "source": [
    "df.describe()['MonthlyIncome']"
   ]
  },
  {
   "cell_type": "code",
   "execution_count": 23,
   "id": "3458186b",
   "metadata": {},
   "outputs": [
    {
     "data": {
      "image/png": "[encoded data removed]",
      "text/plain": [
       "<Figure size 360x360 with 1 Axes>"
      ]
     },
     "metadata": {
      "needs_background": "light"
     },
     "output_type": "display_data"
    }
   ],
   "source": [
    "plt.figure(figsize=(5,5))\n",
    "sns.boxplot(y='MonthlyIncome', data=df, orient='v', palette='Set1')\n",
    "p = plt.title('Boxplot for 2021 Monthly Income')\n",
    "p = plt.ylabel('MonthlyIncome')"
   ]
  },
  {
   "cell_type": "code",
   "execution_count": 24,
   "id": "7a61d6b8",
   "metadata": {},
   "outputs": [],
   "source": [
    "outliers = find_outliers_IQR(df['MonthlyIncome'])"
   ]
  },
  {
   "cell_type": "code",
   "execution_count": 25,
   "id": "cc9d4b8a",
   "metadata": {},
   "outputs": [
    {
     "name": "stdout",
     "output_type": "stream",
     "text": [
      "number of outliers: 114\n"
     ]
    }
   ],
   "source": [
    "print(\"number of outliers: \"+ str(len(outliers)))"
   ]
  },
  {
   "cell_type": "markdown",
   "id": "4e8919ac",
   "metadata": {},
   "source": [
    "Justification for leaving in outliers\n",
    "\n",
    "Although many outliers were identified in the monthly income column i have decided to leave them in. After checking the background of the dataset i became aware that the data was produced by a HR analytics team and therefore the income was not self declared so may be accurate. Although some of the data may fall outside the Inter Quartile Range i have assumed that the input is correct and removing the outliers may have a negative affect on the follow up analysis."
   ]
  },
  {
   "cell_type": "markdown",
   "id": "ab821f75",
   "metadata": {},
   "source": [
    "Pivot tables showing aggregated data:"
   ]
  },
  {
   "cell_type": "markdown",
   "id": "d2e236e7",
   "metadata": {},
   "source": [
    "Summarising the data of the three columns visualised above. "
   ]
  },
  {
   "cell_type": "code",
   "execution_count": 26,
   "id": "565cdee1",
   "metadata": {},
   "outputs": [
    {
     "name": "stdout",
     "output_type": "stream",
     "text": [
      "                           mean_years_in_role\n",
      "JobRole                                      \n",
      "manager                              6.450980\n",
      "manufacturing director               4.972414\n",
      "healthcare representative            4.862595\n",
      "sales                                4.278729\n",
      "research                             3.922043\n",
      "laboratory technician                3.200772\n",
      "human resources                      3.134615\n"
     ]
    }
   ],
   "source": [
    "#displaying mean years at company grouped by job role\n",
    "years_at_company = df.groupby('JobRole').agg(mean_years_in_role = ('YearsInCurrentRole', 'mean')).sort_values(by='mean_years_in_role', ascending=False)\n",
    "print(years_at_company)"
   ]
  },
  {
   "cell_type": "code",
   "execution_count": 27,
   "id": "6a8b8ffa",
   "metadata": {},
   "outputs": [
    {
     "data": {
      "text/plain": [
       "<AxesSubplot:xlabel='JobRole'>"
      ]
     },
     "execution_count": 27,
     "metadata": {},
     "output_type": "execute_result"
    },
    {
     "data": {
      "image/png": "[encoded data removed]",
      "text/plain": [
       "<Figure size 432x288 with 1 Axes>"
      ]
     },
     "metadata": {
      "needs_background": "light"
     },
     "output_type": "display_data"
    }
   ],
   "source": [
    "# visualising mean years at company - bar chart\n",
    "\n",
    "years_at_company.plot(kind=\"bar\")"
   ]
  },
  {
   "cell_type": "code",
   "execution_count": 28,
   "id": "2402917d",
   "metadata": {},
   "outputs": [
    {
     "name": "stdout",
     "output_type": "stream",
     "text": [
      "                               mean_pay\n",
      "JobRole                                \n",
      "manager                    17181.676471\n",
      "healthcare representative   7528.763359\n",
      "manufacturing director      7295.137931\n",
      "sales                       6052.012225\n",
      "research                    5991.279570\n",
      "human resources             4235.750000\n",
      "laboratory technician       3237.169884\n"
     ]
    }
   ],
   "source": [
    "#displaying mean monthly income grouped by job role\n",
    "\n",
    "\n",
    "average_monthly_pay = df.groupby('JobRole').agg(mean_pay = ('MonthlyIncome', 'mean')).sort_values(by='mean_pay', ascending=False)\n",
    "print(average_monthly_pay)"
   ]
  },
  {
   "cell_type": "code",
   "execution_count": 29,
   "id": "278fce27",
   "metadata": {},
   "outputs": [
    {
     "data": {
      "text/plain": [
       "<AxesSubplot:xlabel='JobRole'>"
      ]
     },
     "execution_count": 29,
     "metadata": {},
     "output_type": "execute_result"
    },
    {
     "data": {
      "image/png": "[encoded data removed]",
      "text/plain": [
       "<Figure size 432x288 with 1 Axes>"
      ]
     },
     "metadata": {
      "needs_background": "light"
     },
     "output_type": "display_data"
    }
   ],
   "source": [
    "# visualising mean pay per sector - bar chart\n",
    "\n",
    "average_monthly_pay.plot(kind=\"bar\")"
   ]
  },
  {
   "cell_type": "code",
   "execution_count": 30,
   "id": "352e171a",
   "metadata": {},
   "outputs": [
    {
     "name": "stdout",
     "output_type": "stream",
     "text": [
      "                           mean_satisfaction\n",
      "JobRole                                     \n",
      "healthcare representative           2.786260\n",
      "research                            2.758065\n",
      "sales                               2.750611\n",
      "manager                             2.705882\n",
      "laboratory technician               2.691120\n",
      "manufacturing director              2.682759\n",
      "human resources                     2.557692\n"
     ]
    }
   ],
   "source": [
    "#displaying mean job satisfaction grouped by job role\n",
    "\n",
    "\n",
    "job_satisfaction = df.groupby('JobRole').agg(mean_satisfaction = ('JobSatisfaction', 'mean')).sort_values(by='mean_satisfaction', ascending=False)\n",
    "print(job_satisfaction)"
   ]
  },
  {
   "cell_type": "code",
   "execution_count": 31,
   "id": "3fc1a059",
   "metadata": {},
   "outputs": [
    {
     "data": {
      "text/plain": [
       "<AxesSubplot:xlabel='JobRole'>"
      ]
     },
     "execution_count": 31,
     "metadata": {},
     "output_type": "execute_result"
    },
    {
     "data": {
      "image/png": "[encoded data removed]",
      "text/plain": [
       "<Figure size 432x288 with 1 Axes>"
      ]
     },
     "metadata": {
      "needs_background": "light"
     },
     "output_type": "display_data"
    }
   ],
   "source": [
    "# visualising mean job satisfaction - bar chart\n",
    "\n",
    "job_satisfaction.plot(kind=\"bar\")"
   ]
  },
  {
   "cell_type": "code",
   "execution_count": 32,
   "id": "b16633a1",
   "metadata": {},
   "outputs": [
    {
     "name": "stdout",
     "output_type": "stream",
     "text": [
      "                           mean_years_in_role      mean_pay\n",
      "JobRole                                                    \n",
      "manager                              6.450980  17181.676471\n",
      "healthcare representative            4.862595   7528.763359\n",
      "manufacturing director               4.972414   7295.137931\n",
      "sales                                4.278729   6052.012225\n",
      "research                             3.922043   5991.279570\n",
      "human resources                      3.134615   4235.750000\n",
      "laboratory technician                3.200772   3237.169884\n"
     ]
    }
   ],
   "source": [
    "#merging aggregated data together\n",
    "\n",
    "pivot_data = pd.merge(years_at_company, average_monthly_pay, how=\"right\", on='JobRole')\n",
    "\n",
    "print(pivot_data)"
   ]
  },
  {
   "cell_type": "code",
   "execution_count": 33,
   "id": "b142376a",
   "metadata": {},
   "outputs": [
    {
     "name": "stdout",
     "output_type": "stream",
     "text": [
      "                           mean_years_in_role      mean_pay  mean_satisfaction\n",
      "JobRole                                                                       \n",
      "healthcare representative            4.862595   7528.763359           2.786260\n",
      "research                             3.922043   5991.279570           2.758065\n",
      "sales                                4.278729   6052.012225           2.750611\n",
      "manager                              6.450980  17181.676471           2.705882\n",
      "laboratory technician                3.200772   3237.169884           2.691120\n",
      "manufacturing director               4.972414   7295.137931           2.682759\n",
      "human resources                      3.134615   4235.750000           2.557692\n"
     ]
    }
   ],
   "source": [
    "# final merged table to see average yeaes in role, job satisfaction, and monthly income\n",
    "\n",
    "\n",
    "final_pivot = pd.merge(pivot_data, job_satisfaction, how=\"right\", on='JobRole')\n",
    "print(final_pivot)"
   ]
  },
  {
   "cell_type": "markdown",
   "id": "ee783342",
   "metadata": {},
   "source": [
    "4.5. Conclusions & Further Work \n",
    "\n",
    "This intial analysis was intended to give us a brief overview of the statistics surrounding companies with SICCODE 22190. \n",
    "The processes followed above will give anyone picking up this subject a starting point for further analysis.\n",
    "\n",
    "The analysis of the companies house was of limited benefit and no real conclusions could be drawn from it.\n",
    "The found data showing HR analysed data of attrition rates per sector provided us with a good basis for further investigation into the issues raised in chapters 1 & 2.\n",
    "\n",
    "One of the issues addressed was the high turnover of staff in Sales and middle management positions. Looking at this dataset has gave us a bit more insight into the issue raised. From this dataset we can see that sales jobs are not amongst the lowest for years spent in current role, they are the 4th highest of 6 sectors. They are also fourth highest in terms of monthly income. The sales sector is third highest in terms of monthly income. \n",
    "Management positions hold position 1 in terms of monthly income and also position 1 in average years spent in role. More analysis will be done in chapter 5 to see if there is any correlation between higher incomes and time spent in certain roles.\n",
    "\n",
    "\n",
    "4.5.1. Effectiveness of Cleaning Techniques, Tools, and Guides\n",
    "\n",
    "The tools used in this analysis were largely effective with the exception of completely removing the outliers. The pivot table aggregated data of the hr analytics datasheet and their visualisations gives us a good basis for further investigations into the possible correlation between length of time spent in a role and mean pay\n",
    "\n",
    "4.5.2. Further Work\n",
    "\n",
    "If a dataset could be found which represented roles within our industry the analysis could be repeated to give us specific data related to our industry. We could then make better reccomendations based on more specific data."
   ]
  },
  {
   "cell_type": "markdown",
   "id": "67b612b1",
   "metadata": {},
   "source": [
    "4.6. Appendix"
   ]
  },
  {
   "cell_type": "markdown",
   "id": "83aed721",
   "metadata": {},
   "source": [
    "4.7. References"
   ]
  }
 ],
 "metadata": {
  "kernelspec": {
   "display_name": "Python 3 (ipykernel)",
   "language": "python",
   "name": "python3"
  },
  "language_info": {
   "codemirror_mode": {
    "name": "ipython",
    "version": 3
   },
   "file_extension": ".py",
   "mimetype": "text/x-python",
   "name": "python",
   "nbconvert_exporter": "python",
   "pygments_lexer": "ipython3",
   "version": "3.9.12"
  }
 },
 "nbformat": 4,
 "nbformat_minor": 5
}
